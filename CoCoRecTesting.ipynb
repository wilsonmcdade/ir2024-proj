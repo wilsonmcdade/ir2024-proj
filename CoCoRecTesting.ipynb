{
  "nbformat": 4,
  "nbformat_minor": 0,
  "metadata": {
    "colab": {
      "provenance": []
    },
    "kernelspec": {
      "name": "python3",
      "display_name": "Python 3"
    },
    "language_info": {
      "name": "python"
    }
  },
  "cells": [
    {
      "cell_type": "code",
      "execution_count": 1,
      "metadata": {
        "colab": {
          "base_uri": "https://localhost:8080/"
        },
        "id": "2BXzWeNQpDPM",
        "outputId": "ba59c2df-dcc4-4aa1-8819-37cb4493d52e"
      },
      "outputs": [
        {
          "output_type": "stream",
          "name": "stdout",
          "text": [
            "Cloning into 'CoCoRec'...\n",
            "remote: Enumerating objects: 47, done.\u001b[K\n",
            "remote: Counting objects: 100% (47/47), done.\u001b[K\n",
            "remote: Compressing objects: 100% (41/41), done.\u001b[K\n",
            "remote: Total 47 (delta 12), reused 24 (delta 5), pack-reused 0\u001b[K\n",
            "Receiving objects: 100% (47/47), 29.93 KiB | 4.28 MiB/s, done.\n",
            "Resolving deltas: 100% (12/12), done.\n",
            "Cloning into 'CoCoRec/PyTorch_GBW_LM'...\n",
            "remote: Enumerating objects: 99, done.\u001b[K\n",
            "remote: Total 99 (delta 0), reused 0 (delta 0), pack-reused 99\u001b[K\n",
            "Receiving objects: 100% (99/99), 4.61 MiB | 14.05 MiB/s, done.\n",
            "Resolving deltas: 100% (50/50), done.\n"
          ]
        }
      ],
      "source": [
        "!git clone https://github.com/RenqinCai/CoCoRec.git\n",
        "!git clone https://github.com/rdspring1/PyTorch_GBW_LM.git CoCoRec/PyTorch_GBW_LM/"
      ]
    },
    {
      "cell_type": "code",
      "source": [
        "import os\n",
        "os.chdir(\"CoCoRec/PyTorch_GBW_LM/lm/log_uniform/\")"
      ],
      "metadata": {
        "id": "yTbQ26nnpGRW"
      },
      "execution_count": 2,
      "outputs": []
    },
    {
      "cell_type": "code",
      "source": [
        "!make all"
      ],
      "metadata": {
        "colab": {
          "base_uri": "https://localhost:8080/"
        },
        "id": "01r3blt1vJoW",
        "outputId": "d699d250-25a1-409a-d743-6fc9c334835a"
      },
      "execution_count": 3,
      "outputs": [
        {
          "output_type": "stream",
          "name": "stdout",
          "text": [
            "rm -rf build\n",
            "rm -rf __pycache__\n",
            "rm -rf log_uniform.cpp\n",
            "rm -rf log_uniform.*.so \n",
            "python3 setup.py build_ext --inplace\n",
            "Compiling log_uniform.pyx because it changed.\n",
            "[1/1] Cythonizing log_uniform.pyx\n",
            "/usr/local/lib/python3.10/dist-packages/Cython/Compiler/Main.py:381: FutureWarning: Cython directive 'language_level' not set, using '3str' for now (Py3). This has changed from earlier releases! File: /content/CoCoRec/PyTorch_GBW_LM/lm/log_uniform/log_uniform.pyx\n",
            "  tree = Parsing.p_module(s, pxd, full_module_name)\n",
            "In file included from \u001b[01m\u001b[K/usr/local/lib/python3.10/dist-packages/numpy/core/include/numpy/ndarraytypes.h:1929\u001b[m\u001b[K,\n",
            "                 from \u001b[01m\u001b[K/usr/local/lib/python3.10/dist-packages/numpy/core/include/numpy/ndarrayobject.h:12\u001b[m\u001b[K,\n",
            "                 from \u001b[01m\u001b[K/usr/local/lib/python3.10/dist-packages/numpy/core/include/numpy/arrayobject.h:5\u001b[m\u001b[K,\n",
            "                 from \u001b[01m\u001b[Klog_uniform.cpp:1256\u001b[m\u001b[K:\n",
            "\u001b[01m\u001b[K/usr/local/lib/python3.10/dist-packages/numpy/core/include/numpy/npy_1_7_deprecated_api.h:17:2:\u001b[m\u001b[K \u001b[01;35m\u001b[Kwarning: \u001b[m\u001b[K#warning \"Using deprecated NumPy API, disable it with \" \"#define NPY_NO_DEPRECATED_API NPY_1_7_API_VERSION\" [\u001b[01;35m\u001b[K\u001b]8;;https://gcc.gnu.org/onlinedocs/gcc/Warning-Options.html#index-Wcpp\u0007-Wcpp\u001b]8;;\u0007\u001b[m\u001b[K]\n",
            "   17 | #\u001b[01;35m\u001b[Kwarning\u001b[m\u001b[K \"Using deprecated NumPy API, disable it with \" \\\n",
            "      |  \u001b[01;35m\u001b[K^~~~~~~\u001b[m\u001b[K\n"
          ]
        }
      ]
    },
    {
      "cell_type": "code",
      "source": [
        "!python test.py"
      ],
      "metadata": {
        "colab": {
          "base_uri": "https://localhost:8080/"
        },
        "id": "vmO8-mr_v_It",
        "outputId": "44b348a1-005e-421d-ef65-356859c398a1"
      },
      "execution_count": 4,
      "outputs": [
        {
          "output_type": "stream",
          "name": "stdout",
          "text": [
            "non_unique log_uniform numpy 0.09916067123413086\n",
            "non_unique multinomial cuda 0.014814615249633789\n",
            "unique multinomial cuda 0.050054311752319336\n",
            "unique log_uniform c++ 0.005783557891845703\n"
          ]
        }
      ]
    },
    {
      "cell_type": "code",
      "source": [
        "os.chdir(\"../../../\")"
      ],
      "metadata": {
        "id": "ACU08pOtpgeN"
      },
      "execution_count": 5,
      "outputs": []
    },
    {
      "cell_type": "code",
      "source": [
        "!pip install tensorboardX"
      ],
      "metadata": {
        "colab": {
          "base_uri": "https://localhost:8080/"
        },
        "id": "mPeXxDZuxiIY",
        "outputId": "d42ccc41-c4a3-4295-93a0-0b30f78c5b0f"
      },
      "execution_count": 6,
      "outputs": [
        {
          "output_type": "stream",
          "name": "stdout",
          "text": [
            "Collecting tensorboardX\n",
            "  Downloading tensorboardX-2.6.2.2-py2.py3-none-any.whl (101 kB)\n",
            "\u001b[?25l     \u001b[90m━━━━━━━━━━━━━━━━━━━━━━━━━━━━━━━━━━━━━━━━\u001b[0m \u001b[32m0.0/101.7 kB\u001b[0m \u001b[31m?\u001b[0m eta \u001b[36m-:--:--\u001b[0m\r\u001b[2K     \u001b[91m━━━━━━━━━━━━━━━━━━━━━━━━━━━━━━━━━━━━\u001b[0m\u001b[90m╺\u001b[0m\u001b[90m━━━\u001b[0m \u001b[32m92.2/101.7 kB\u001b[0m \u001b[31m2.8 MB/s\u001b[0m eta \u001b[36m0:00:01\u001b[0m\r\u001b[2K     \u001b[90m━━━━━━━━━━━━━━━━━━━━━━━━━━━━━━━━━━━━━━━━\u001b[0m \u001b[32m101.7/101.7 kB\u001b[0m \u001b[31m2.1 MB/s\u001b[0m eta \u001b[36m0:00:00\u001b[0m\n",
            "\u001b[?25hRequirement already satisfied: numpy in /usr/local/lib/python3.10/dist-packages (from tensorboardX) (1.25.2)\n",
            "Requirement already satisfied: packaging in /usr/local/lib/python3.10/dist-packages (from tensorboardX) (24.0)\n",
            "Requirement already satisfied: protobuf>=3.20 in /usr/local/lib/python3.10/dist-packages (from tensorboardX) (3.20.3)\n",
            "Installing collected packages: tensorboardX\n",
            "Successfully installed tensorboardX-2.6.2.2\n"
          ]
        }
      ]
    },
    {
      "cell_type": "markdown",
      "source": [
        "Next, open trainer.py in RNN_version and replace lines 15, 16 with the following to reflect our directory structure:\n",
        "\n",
        "```\n",
        "sys.path.insert(0, 'PyTorch_GBW_LM')\n",
        "sys.path.insert(0, 'PyTorch_GBW_LM/lm/log_uniform')\n",
        "```\n",
        "\n"
      ],
      "metadata": {
        "id": "O-oi4g6N5LoY"
      }
    },
    {
      "cell_type": "code",
      "source": [
        "!python RNN_version/main_time.py"
      ],
      "metadata": {
        "colab": {
          "base_uri": "https://localhost:8080/"
        },
        "id": "0HENp3-xvlQL",
        "outputId": "065e239a-764b-4eb3-c859-b1c523427a46"
      },
      "execution_count": 8,
      "outputs": [
        {
          "output_type": "stream",
          "name": "stdout",
          "text": [
            "cpu\n",
            "output_file 885354a81d6a_23_30_18_03_50_100_100_Adagrad_0.05_30_None\n",
            "main_time.py shared_embedding: None\n",
            "embedding dim not -1 -1\n",
            "Traceback (most recent call last):\n",
            "  File \"/content/CoCoRec/RNN_version/main_time_beer.py\", line 251, in <module>\n",
            "    main()\n",
            "  File \"/content/CoCoRec/RNN_version/main_time_beer.py\", line 163, in main\n",
            "    raise AssertionError()\n",
            "AssertionError\n"
          ]
        }
      ]
    },
    {
      "cell_type": "code",
      "source": [
        "!pwd"
      ],
      "metadata": {
        "colab": {
          "base_uri": "https://localhost:8080/"
        },
        "id": "9Pks7VoQv3Ft",
        "outputId": "83fb9c5f-4990-4343-a390-89eab6ec8727"
      },
      "execution_count": 23,
      "outputs": [
        {
          "output_type": "stream",
          "name": "stdout",
          "text": [
            "/content/CoCoRec\n"
          ]
        }
      ]
    },
    {
      "cell_type": "code",
      "source": [],
      "metadata": {
        "id": "OqHBbDiaxG8b"
      },
      "execution_count": null,
      "outputs": []
    }
  ]
}